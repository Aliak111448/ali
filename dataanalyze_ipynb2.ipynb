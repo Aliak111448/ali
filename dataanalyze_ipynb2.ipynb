{
  "nbformat": 4,
  "nbformat_minor": 0,
  "metadata": {
    "colab": {
      "provenance": [],
      "authorship_tag": "ABX9TyMEQ0zUGBSQSBn5pl4L8Rin",
      "include_colab_link": true
    },
    "kernelspec": {
      "name": "python3",
      "display_name": "Python 3"
    },
    "language_info": {
      "name": "python"
    }
  },
  "cells": [
    {
      "cell_type": "markdown",
      "metadata": {
        "id": "view-in-github",
        "colab_type": "text"
      },
      "source": [
        "<a href=\"https://colab.research.google.com/github/Aliak111448/ali/blob/main/dataanalyze_ipynb2.ipynb\" target=\"_parent\"><img src=\"https://colab.research.google.com/assets/colab-badge.svg\" alt=\"Open In Colab\"/></a>"
      ]
    },
    {
      "cell_type": "code",
      "execution_count": 1,
      "metadata": {
        "id": "RjfRa_sspQ9g"
      },
      "outputs": [],
      "source": [
        "import pandas as pd"
      ]
    },
    {
      "cell_type": "code",
      "source": [
        "a=[[\"ali\",\"mohammad\",\"reza\"]]\n",
        "df=pd.DataFrame(a)\n",
        "print(df)\n"
      ],
      "metadata": {
        "colab": {
          "base_uri": "https://localhost:8080/"
        },
        "id": "TsurL0MIpgSP",
        "outputId": "20e6a491-fedc-49ae-edf2-01eaefc4036d"
      },
      "execution_count": 3,
      "outputs": [
        {
          "output_type": "stream",
          "name": "stdout",
          "text": [
            "     0         1     2\n",
            "0  ali  mohammad  reza\n"
          ]
        }
      ]
    },
    {
      "cell_type": "code",
      "source": [
        "a=([23,44,56,70,78,43])\n",
        "df=pd.Series(a)\n",
        "print(df)"
      ],
      "metadata": {
        "colab": {
          "base_uri": "https://localhost:8080/"
        },
        "id": "5fQeE72xHdip",
        "outputId": "823a544d-c880-4198-ba57-c318648365bb"
      },
      "execution_count": 6,
      "outputs": [
        {
          "output_type": "stream",
          "name": "stdout",
          "text": [
            "0    23\n",
            "1    44\n",
            "2    56\n",
            "3    70\n",
            "4    78\n",
            "5    43\n",
            "dtype: int64\n"
          ]
        }
      ]
    }
  ]
}